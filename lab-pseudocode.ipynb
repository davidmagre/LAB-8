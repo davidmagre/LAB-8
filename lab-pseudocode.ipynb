{
 "cells": [
  {
   "cell_type": "markdown",
   "metadata": {},
   "source": [
    "# PSEUDOCODE\n",
    "\n",
    "(Please dont kill me)"
   ]
  },
  {
   "cell_type": "markdown",
   "metadata": {},
   "source": [
    "In this lab, you will work to find any solution(hopefully the easiest) to complete this exercises. \n",
    "\n",
    "The second 1 is a BONUS\n",
    "\n",
    "Any further question please ask me or Sandra"
   ]
  },
  {
   "cell_type": "markdown",
   "metadata": {},
   "source": [
    "## EXERCISE 1: RANDOM GUESS OF A NUMBER\n",
    "\n",
    "The user must give you the start and final number. Your code must be developed to select a random number between this 2. If your selection is too high/low you must give a hint to the user: The number is too high/low. Finally, when the user selects the correct number you must return a \"Congratulations etc\" and the number of guesses needed to find the number. \n",
    "\n",
    "IF YOU TRY IT AND YOU FIND THE NUMBER FIRST GUESS, PLEASE SEND A SCREENSHOT VIA SLACK `(MANDATORY)`"
   ]
  },
  {
   "cell_type": "code",
   "execution_count": 9,
   "metadata": {},
   "outputs": [],
   "source": [
    "#Your Code here:\n",
    "def number_guess(start_number, final_number):\n",
    "    import random\n",
    "    print(\"Welcome to Number Guess\")\n",
    "    random_number = random.randint(start_number, final_number)\n",
    "    tiradas=0\n",
    "    while True:\n",
    "        result=random_number\n",
    "        tiradas+=1\n",
    "        selection=int(input(\"Please enter an integer: \"))\n",
    "        if selection > result:\n",
    "            print(\"The number is too high!\")\n",
    "        elif selection < result:\n",
    "            print(\"The number is too low!\")\n",
    "        elif selection == result:\n",
    "            break\n",
    "\n",
    "    print(f\"Congratulations you won! The number was {result}. You tried {tiradas} times!\")"
   ]
  },
  {
   "cell_type": "code",
   "execution_count": 11,
   "metadata": {},
   "outputs": [
    {
     "name": "stdout",
     "output_type": "stream",
     "text": [
      "Welcome to Number Guess\n",
      "The number is too high!\n",
      "The number is too low!\n",
      "The number is too low!\n",
      "The number is too high!\n",
      "The number is too high!\n",
      "The number is too low!\n",
      "Congratulations you won! The number was 16. You tried 7 times!\n"
     ]
    }
   ],
   "source": [
    "number_guess(10,51)"
   ]
  },
  {
   "cell_type": "markdown",
   "metadata": {},
   "source": [
    "## EXERCISE 2 (OPTIONAL): LET'S DEVELOP R-P-S"
   ]
  },
  {
   "cell_type": "markdown",
   "metadata": {},
   "source": [
    "Let's develop the code used in class: The R-P-S (Example below)\n",
    "The main problem with this code is that whoever wins a round, wins the match: The user must select the number of rounds needed to win the match. Enjoy!"
   ]
  },
  {
   "cell_type": "code",
   "execution_count": 12,
   "metadata": {},
   "outputs": [],
   "source": [
    "import random\n",
    "\n",
    "def rps():\n",
    "    opciones = [\"tijera\", \"piedra\", \"papel\"]\n",
    "    \n",
    "    # Ask the user for the number of rounds\n",
    "    while True:\n",
    "        try:\n",
    "            num_rounds = int(input(\"Enter the number of rounds you want to play: \"))\n",
    "            if num_rounds > 0:\n",
    "                break\n",
    "            else:\n",
    "                print(\"Please enter a positive number of rounds.\")\n",
    "        except ValueError:\n",
    "            print(\"Invalid input. Please enter a valid number.\")\n",
    "\n",
    "    user_wins = 0\n",
    "    cpu_wins = 0\n",
    "\n",
    "    for round_num in range(1, num_rounds + 1):\n",
    "        user = input(f\"\\nRound {round_num}: Un dos tres, piedra papel tijera un dos tres YA: \").lower()\n",
    "        while user not in opciones:\n",
    "            user = input(\"Invalid choice. Please choose tijera, piedra, or papel: \").lower()\n",
    "\n",
    "        cpu = random.choice(opciones)\n",
    "\n",
    "        print(f\"Tú has elegido {user} y la máquina ha elegido {cpu}\")\n",
    "\n",
    "        if (user == \"tijera\" and cpu == \"papel\") or (user == \"papel\" and cpu == \"piedra\") or (user == \"piedra\" and cpu == \"tijera\"):\n",
    "            print(\"Has ganado esta ronda!\")\n",
    "            user_wins += 1\n",
    "        elif user == cpu:\n",
    "            print(\"Empate en esta ronda!\")\n",
    "        else:\n",
    "            print(\"Has perdido esta ronda!\")\n",
    "            cpu_wins += 1\n",
    "\n",
    "    print(\"\\n----- Game Over -----\")\n",
    "    print(f\"Total User Wins: {user_wins}\")\n",
    "    print(f\"Total CPU Wins: {cpu_wins}\")\n",
    "\n",
    "    if user_wins > cpu_wins:\n",
    "        print(\"¡Felicidades! ¡Has ganado el juego!\")\n",
    "        return \"Ganador\"\n",
    "    elif user_wins == cpu_wins:\n",
    "        print(\"El juego ha terminado en empate.\")\n",
    "        return \"Empate\"\n",
    "    else:\n",
    "        print(\"Lo siento, has perdido el juego.\")\n",
    "        return \"Perdedor\""
   ]
  },
  {
   "cell_type": "code",
   "execution_count": 13,
   "metadata": {},
   "outputs": [
    {
     "name": "stdout",
     "output_type": "stream",
     "text": [
      "Tú has elegido tijera y la máquina ha elegido piedra\n",
      "Has perdido esta ronda!\n",
      "Tú has elegido tijera y la máquina ha elegido tijera\n",
      "Empate en esta ronda!\n",
      "\n",
      "----- Game Over -----\n",
      "Total User Wins: 0\n",
      "Total CPU Wins: 1\n",
      "Lo siento, has perdido el juego.\n"
     ]
    },
    {
     "data": {
      "text/plain": [
       "'Perdedor'"
      ]
     },
     "execution_count": 13,
     "metadata": {},
     "output_type": "execute_result"
    }
   ],
   "source": [
    "rps()"
   ]
  }
 ],
 "metadata": {
  "kernelspec": {
   "display_name": "toni2",
   "language": "python",
   "name": "python3"
  },
  "language_info": {
   "codemirror_mode": {
    "name": "ipython",
    "version": 3
   },
   "file_extension": ".py",
   "mimetype": "text/x-python",
   "name": "python",
   "nbconvert_exporter": "python",
   "pygments_lexer": "ipython3",
   "version": "3.11.7"
  }
 },
 "nbformat": 4,
 "nbformat_minor": 2
}
